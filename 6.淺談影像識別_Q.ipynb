{
 "cells": [
  {
   "cell_type": "markdown",
   "metadata": {
    "slideshow": {
     "slide_type": "slide"
    }
   },
   "source": [
    "## 淺談影像識別\n",
    "\n",
    "\n",
    "### Da-Wei Chiang"
   ]
  },
  {
   "cell_type": "markdown",
   "metadata": {
    "slideshow": {
     "slide_type": "slide"
    }
   },
   "source": [
    "## 大綱\n",
    "\n",
    "- 何謂`OpenCV`\n",
    "- `OpenCV Basic`\n",
    "- 影像基本概念\n",
    "- 人臉辨識"
   ]
  },
  {
   "cell_type": "markdown",
   "metadata": {
    "slideshow": {
     "slide_type": "slide"
    }
   },
   "source": [
    "## 何謂`OpenCV`\n",
    "\n",
    "- [OpenCV](https://zh.wikipedia.org/wiki/OpenCV)全名`Open Source Computer Vision Library`是由`Intel`開發的模組\n",
    "- 其主要應用於`電腦視覺`、`影像處理...`等圖像行領域"
   ]
  },
  {
   "cell_type": "markdown",
   "metadata": {
    "slideshow": {
     "slide_type": "slide"
    }
   },
   "source": [
    "## `OpenCV Basic`"
   ]
  },
  {
   "cell_type": "markdown",
   "metadata": {
    "slideshow": {
     "slide_type": "subslide"
    }
   },
   "source": [
    "## `OpenCV`安裝\n",
    "\n",
    "```python\n",
    "pip install opencv-python  #安裝\n",
    "\n",
    "import cv2  #引用\n",
    "```"
   ]
  },
  {
   "cell_type": "markdown",
   "metadata": {
    "slideshow": {
     "slide_type": "subslide"
    }
   },
   "source": [
    "## 載入圖片\n",
    "\n",
    "```python\n",
    "#方法一\n",
    "image_Variable = cv2.imread(image_path)\n",
    "cv2.imshow('img', image_Variable)\n",
    "cv2.waitKey(0)\n",
    "cv2.destroyAllWindows()\n",
    "cv2.waitKey(1)   #OpenCV bug\n",
    "#方法二\n",
    "image_Variable = cv2.imread(image_path)\n",
    "image_Variable = image_Variable[:,:,::-1]\n",
    "plt.imshow(image_Variable)\n",
    "plt.show()\n",
    "```"
   ]
  },
  {
   "cell_type": "code",
   "execution_count": 8,
   "metadata": {
    "slideshow": {
     "slide_type": "subslide"
    }
   },
   "outputs": [
    {
     "data": {
      "text/plain": [
       "-1"
      ]
     },
     "execution_count": 8,
     "metadata": {},
     "output_type": "execute_result"
    }
   ],
   "source": [
    "# 範例\n",
    "\n",
    "import cv2\n",
    "from  matplotlib import pyplot as plt\n",
    "\n",
    "image = cv2.imread('6.悟空.jpg')\n",
    "cv2.imshow('img', image)\n",
    "cv2.waitKey(0)\n",
    "cv2.destroyAllWindows()\n",
    "cv2.waitKey(1)"
   ]
  },
  {
   "cell_type": "code",
   "execution_count": 11,
   "metadata": {
    "slideshow": {
     "slide_type": "subslide"
    }
   },
   "outputs": [
    {
     "data": {
      "text/plain": [
       "True"
      ]
     },
     "execution_count": 11,
     "metadata": {},
     "output_type": "execute_result"
    }
   ],
   "source": [
    "# 範例\n",
    "\n",
    "import cv2\n",
    "from  matplotlib import pyplot as plt\n",
    "\n",
    "image = cv2.imread('6.悟空.jpg', 0)\n",
    "cv2.imwrite('./悟空灰階.jpg', image)"
   ]
  },
  {
   "cell_type": "markdown",
   "metadata": {
    "slideshow": {
     "slide_type": "subslide"
    }
   },
   "source": [
    "## 練習\n",
    "\n",
    "- 請自行抓取一張圖片, 並透過`OpenCV`讀取圖片"
   ]
  },
  {
   "cell_type": "markdown",
   "metadata": {
    "slideshow": {
     "slide_type": "slide"
    }
   },
   "source": [
    "## 影像基本概念\n",
    "\n",
    "- 黑白影像\n",
    "- 灰階影像\n",
    "- 彩色影像"
   ]
  },
  {
   "cell_type": "markdown",
   "metadata": {
    "slideshow": {
     "slide_type": "subslide"
    }
   },
   "source": [
    "## 黑白(位元)影像介紹\n",
    "\n",
    "- 黑白影像是由`0`或`1`的位元組所構成, 我們稱為位元表示法\n",
    "    - `0`表示為黑色、`1`表示為白色\n",
    "- 影像中每一格我們稱之為像數`pixel`(如下圖所示) \n",
    "- 黑白影像的缺點\n",
    "    - 無法很細緻的呈現一張圖片"
   ]
  },
  {
   "cell_type": "markdown",
   "metadata": {
    "slideshow": {
     "slide_type": "subslide"
    }
   },
   "source": [
    "## 黑白(位元)影像介紹\n",
    "\n",
    "![](6.黑白影像.png)"
   ]
  },
  {
   "cell_type": "markdown",
   "metadata": {
    "slideshow": {
     "slide_type": "subslide"
    }
   },
   "source": [
    "## 灰階(`GRAY`)影像\n",
    "\n",
    "- 一種黑白影像, 但在黑與白中多了很多灰階色彩.(如下圖所示)\n",
    "    - `0`表示純黑色、`255`表示白色"
   ]
  },
  {
   "cell_type": "markdown",
   "metadata": {
    "slideshow": {
     "slide_type": "subslide"
    }
   },
   "source": [
    "![](6.悟空灰階.png)"
   ]
  },
  {
   "cell_type": "markdown",
   "metadata": {
    "slideshow": {
     "slide_type": "subslide"
    }
   },
   "source": [
    "## 彩色(`RGB`)影像\n",
    "\n",
    "- `R(Red)、G(Green)、B(Blue)`為色彩的三原色, 是構成彩色圖像的基本通道`(Channel)`\n",
    "- `RGB`中每個`Channel`的值皆介於`0 ~ 255`之間\n",
    "- 圖片中的每個像素點皆由三個`Channel`所構成\n",
    "- [網路調色盤](https://materialui.co/color-picker)"
   ]
  },
  {
   "cell_type": "markdown",
   "metadata": {
    "slideshow": {
     "slide_type": "subslide"
    }
   },
   "source": [
    "## `Open CV`的彩色影像\n",
    "\n",
    "- 基本彩色圖學所使用的皆為`RGB`色彩影像, 但`OpenCV`的`Channel`順序為`BGR`"
   ]
  },
  {
   "cell_type": "markdown",
   "metadata": {
    "slideshow": {
     "slide_type": "slide"
    }
   },
   "source": [
    "## `Open CV`圖像屬性"
   ]
  },
  {
   "cell_type": "code",
   "execution_count": 18,
   "metadata": {
    "slideshow": {
     "slide_type": "subslide"
    }
   },
   "outputs": [
    {
     "name": "stdout",
     "output_type": "stream",
     "text": [
      "<class 'numpy.ndarray'>\n",
      "(1179, 872, 3)\n",
      "uint8\n",
      "[[[255 255 255]\n",
      "  [255 255 255]\n",
      "  [255 255 255]\n",
      "  ...\n",
      "  [255 255 255]\n",
      "  [255 255 255]\n",
      "  [255 255 255]]\n",
      "\n",
      " [[255 255 255]\n",
      "  [255 255 255]\n",
      "  [255 255 255]\n",
      "  ...\n",
      "  [255 255 255]\n",
      "  [255 255 255]\n",
      "  [255 255 255]]\n",
      "\n",
      " [[255 255 255]\n",
      "  [255 255 255]\n",
      "  [255 255 255]\n",
      "  ...\n",
      "  [255 255 255]\n",
      "  [255 255 255]\n",
      "  [255 255 255]]\n",
      "\n",
      " ...\n",
      "\n",
      " [[255 255 255]\n",
      "  [255 255 255]\n",
      "  [255 255 255]\n",
      "  ...\n",
      "  [255 255 255]\n",
      "  [255 255 255]\n",
      "  [255 255 255]]\n",
      "\n",
      " [[255 255 255]\n",
      "  [255 255 255]\n",
      "  [255 255 255]\n",
      "  ...\n",
      "  [255 255 255]\n",
      "  [255 255 255]\n",
      "  [255 255 255]]\n",
      "\n",
      " [[255 255 255]\n",
      "  [255 255 255]\n",
      "  [255 255 255]\n",
      "  ...\n",
      "  [255 255 255]\n",
      "  [255 255 255]\n",
      "  [255 255 255]]]\n"
     ]
    }
   ],
   "source": [
    "# 範例\n",
    "\n",
    "import cv2\n",
    "from  matplotlib import pyplot as plt\n",
    "\n",
    "image = cv2.imread('6.悟空.jpg')\n",
    "print(type(image))\n",
    "print(image.shape)   #高(x座標):1179px, 寬(y座標):872px, Channel:3 \n",
    "print(image.dtype)   #8位元無號整數\n",
    "print(image)"
   ]
  },
  {
   "cell_type": "markdown",
   "metadata": {
    "slideshow": {
     "slide_type": "subslide"
    }
   },
   "source": [
    "## 練習\n",
    "\n",
    "- 自行產生一張其大小為300乘300全紅的圖片"
   ]
  },
  {
   "cell_type": "markdown",
   "metadata": {
    "slideshow": {
     "slide_type": "subslide"
    }
   },
   "source": [
    "## 繪圖\n",
    "\n",
    "```python\n",
    "\n",
    "cv2.line(image_Variable, start, end, color, width)  #畫線\n",
    "cv2.rectangle(image_Variable, start, end, color, width(cv2.FILLED))\n",
    "cv2.circle(image_Variable, center, radius, color, width(cv2.FILLED))\n",
    "##參數說明\n",
    "image_Variable : 要繪製的圖\n",
    "start : 開始的點位置\n",
    "end : 結束的點位置\n",
    "color : 線的顏色\n",
    "width : 線的粗細\n",
    "center : 圓心位置\n",
    "radius : 半徑\n",
    "cv2.FILLED : 粗細可改為全部填滿顏色\n",
    "```"
   ]
  },
  {
   "cell_type": "code",
   "execution_count": 25,
   "metadata": {
    "slideshow": {
     "slide_type": "subslide"
    }
   },
   "outputs": [
    {
     "name": "stderr",
     "output_type": "stream",
     "text": [
      "Clipping input data to the valid range for imshow with RGB data ([0..1] for floats or [0..255] for integers).\n"
     ]
    },
    {
     "data": {
      "image/png": "[encoded data removed]",
      "text/plain": [
       "<Figure size 432x288 with 1 Axes>"
      ]
     },
     "metadata": {
      "needs_background": "light"
     },
     "output_type": "display_data"
    }
   ],
   "source": [
    "## 範例\n",
    "import cv2\n",
    "import numpy as np\n",
    "img = np.zeros((255, 255, 3))\n",
    "cv2.line(img, (0, 50), (100, 100), (255, 255, 255), 4)\n",
    "cv2.rectangle(img, (150, 150), (250, 200), (255, 0, 0), 2)\n",
    "cv2.circle(img, (50, 200), 25, (0, 255, 0), cv2.FILLED)\n",
    "plt.imshow(img)\n",
    "plt.show()"
   ]
  },
  {
   "cell_type": "markdown",
   "metadata": {
    "slideshow": {
     "slide_type": "subslide"
    }
   },
   "source": [
    "## 練習\n",
    "\n",
    "- 請產生一張長寬為255乘255的黑色圖片\n",
    "- 並在這張圖片打一個大叉叉(左上到右下及右上到左下的線)\n",
    "- 在圖片中心打一個全紅的正方形"
   ]
  },
  {
   "cell_type": "markdown",
   "metadata": {
    "slideshow": {
     "slide_type": "slide"
    }
   },
   "source": [
    "## 人臉辨識\n",
    "\n",
    "- 引用`OpenCV`[模型](https://github.com/opencv/opencv/tree/4.x/data/haarcascades)"
   ]
  },
  {
   "cell_type": "markdown",
   "metadata": {
    "slideshow": {
     "slide_type": "subslide"
    }
   },
   "source": [
    "## 模型引用與偵測\n",
    "\n",
    "```python\n",
    "model_Variable = cv2.CascadeClassifier(model_path)\n",
    "Rect_Para_Variable = model_Variable.detectMultiScale(image_Variable, 放大倍數, 偵測次數)\n",
    "## 參數說明\n",
    "\n",
    "```"
   ]
  },
  {
   "cell_type": "code",
   "execution_count": 141,
   "metadata": {
    "slideshow": {
     "slide_type": "subslide"
    }
   },
   "outputs": [
    {
     "name": "stdout",
     "output_type": "stream",
     "text": [
      "1\n",
      "62\n",
      "68\n",
      "192\n",
      "192\n"
     ]
    },
    {
     "data": {
      "image/png": "[encoded data removed]",
      "text/plain": [
       "<Figure size 432x288 with 1 Axes>"
      ]
     },
     "metadata": {
      "needs_background": "light"
     },
     "output_type": "display_data"
    }
   ],
   "source": [
    "## 範例\n",
    "import cv2\n",
    "from  matplotlib import pyplot as plt\n",
    "\n",
    "image = cv2.imread('林智堅.jpg')\n",
    "#image = cv2.imread('pose.jpg')\n",
    "face_model = cv2.CascadeClassifier('face.xml')\n",
    "faceRect = face_model.detectMultiScale(image, 2, 2)\n",
    "print(len(faceRect))\n",
    "\n",
    "for (x, y, w, h) in faceRect:\n",
    "    print(x)\n",
    "    print(y)\n",
    "    print(w)\n",
    "    print(h)\n",
    "    cv2.rectangle(image, (x, y), (x+w, y+h), (0, 255, 0), 4)\n",
    "image = image[:,:,::-1]\n",
    "plt.imshow(image)\n",
    "plt.show()"
   ]
  },
  {
   "cell_type": "markdown",
   "metadata": {
    "slideshow": {
     "slide_type": "subslide"
    }
   },
   "source": [
    "## 練習\n",
    "\n",
    "- 請自行練習人臉辨識"
   ]
  }
 ],
 "metadata": {
  "celltoolbar": "Slideshow",
  "kernelspec": {
   "display_name": "Python 3",
   "language": "python",
   "name": "python3"
  },
  "language_info": {
   "codemirror_mode": {
    "name": "ipython",
    "version": 3
   },
   "file_extension": ".py",
   "mimetype": "text/x-python",
   "name": "python",
   "nbconvert_exporter": "python",
   "pygments_lexer": "ipython3",
   "version": "3.7.4"
  }
 },
 "nbformat": 4,
 "nbformat_minor": 4
}
